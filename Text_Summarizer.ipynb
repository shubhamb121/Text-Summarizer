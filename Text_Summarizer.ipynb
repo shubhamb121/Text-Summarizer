{
  "nbformat": 4,
  "nbformat_minor": 0,
  "metadata": {
    "colab": {
      "name": "Text Summarizer.ipynb",
      "provenance": [],
      "authorship_tag": "ABX9TyNH6logcAoKODMXDr7r4vyx",
      "include_colab_link": true
    },
    "kernelspec": {
      "name": "python3",
      "display_name": "Python 3"
    },
    "language_info": {
      "name": "python"
    }
  },
  "cells": [
    {
      "cell_type": "markdown",
      "metadata": {
        "id": "view-in-github",
        "colab_type": "text"
      },
      "source": [
        "<a href=\"https://colab.research.google.com/github/shubhamb121/Text-Summarizer/blob/main/Text_Summarizer.ipynb\" target=\"_parent\"><img src=\"https://colab.research.google.com/assets/colab-badge.svg\" alt=\"Open In Colab\"/></a>"
      ]
    },
    {
      "cell_type": "code",
      "metadata": {
        "colab": {
          "base_uri": "https://localhost:8080/"
        },
        "id": "FOA7WuxnkG5_",
        "outputId": "44211729-e97e-4cbd-db14-da134eaf7485"
      },
      "source": [
        "from collections import Counter \n",
        "from string import punctuation\n",
        "from sklearn.feature_extraction.stop_words import ENGLISH_STOP_WORDS as stop_words"
      ],
      "execution_count": null,
      "outputs": [
        {
          "output_type": "stream",
          "text": [
            "/usr/local/lib/python3.7/dist-packages/sklearn/utils/deprecation.py:144: FutureWarning: The sklearn.feature_extraction.stop_words module is  deprecated in version 0.22 and will be removed in version 0.24. The corresponding classes / functions should instead be imported from sklearn.feature_extraction.text. Anything that cannot be imported from sklearn.feature_extraction.text is now part of the private API.\n",
            "  warnings.warn(message, FutureWarning)\n"
          ],
          "name": "stderr"
        }
      ]
    },
    {
      "cell_type": "code",
      "metadata": {
        "id": "bZhtJDatkPk6"
      },
      "source": [
        "def tokenizer(s):\n",
        "    tokens = []\n",
        "    for word in s.split(' '):\n",
        "        tokens.append(word.strip().lower())\n",
        "    return tokens\n",
        "\n",
        "def sent_tokenizer(s):\n",
        "    sents = []\n",
        "    for sent in s.split('.'):\n",
        "        sents.append(sent.strip())\n",
        "    return sents"
      ],
      "execution_count": null,
      "outputs": []
    },
    {
      "cell_type": "code",
      "metadata": {
        "id": "_fAes1yIkhgK"
      },
      "source": [
        "text = \"\"\"\n",
        "The House Judiciary Committee has invited President Donald Trump or his counsel to participate in the panel's first impeachment hearing next week as the House moves another step closer to impeaching the President. \n",
        "The committee announced that it would hold a hearing December 4 on the \"constitutional grounds for presidential impeachment,\" with a panel of expert witnesses testifying.\n",
        "House Judiciary Chairman Jerry Nadler sent a letter to Trump on Tuesday notifying him of the hearing and inviting the President or his counsel to participate, including asking questions of the witnesses.\n",
        "\"I write to ask if you or your counsel plan to attend the hearing or make a request to question the witness panel,\" the New York Democrat wrote.\n",
        "In the letter, Nadler said the hearing would \"serve as an opportunity to discuss the historical and constitutional basis of impeachment, as well as the Framers' intent and understanding of terms like 'high crimes and misdemeanors.' \"\n",
        "\"We expect to discuss the constitutional framework through which the House may analyze the evidence gathered in the present inquiry,\" Nadler added. \"We will also discuss whether your alleged actions warrant the House's exercising its authority to adopt articles of impeachment.\"\n",
        "The Judiciary Committee hearing is the latest sign that House Democrats are moving forward with impeachment proceedings against the President following the two-month investigation led by the House Intelligence Committee into allegations that Trump pushed Ukraine to investigate his political rivals while a White House meeting and $400 million in security aid were withheld from Kiev.\n",
        "The hearing announcement comes as the Intelligence Committee plans to release its report summarizing the findings of its investigation to the House Judiciary Committee soon after Congress returns from its Thanksgiving recess next week.\n",
        "Democratic aides declined to say what additional hearings they will schedule as part of the impeachment proceedings.\n",
        "The Judiciary Committee is expected to hold multiple hearings related to impeachment, and the panel would debate and approve articles of impeachment before a vote on the House floor.\n",
        "The aides said the first hearing was a \"legal hearing\" that would include some history of impeachment, as well as evaluating the seriousness of the allegations and the evidence against the President.\n",
        "Nadler asked Trump to respond by Sunday on whether the White House wanted to participate in the hearings, as well as who would act as the President's counsel for the proceedings. The letter was copied to White House Counsel Pat Cipollone.\n",
        "\"\"\"\n"
      ],
      "execution_count": null,
      "outputs": []
    },
    {
      "cell_type": "code",
      "metadata": {
        "colab": {
          "base_uri": "https://localhost:8080/"
        },
        "id": "eVjawqCUkaA_",
        "outputId": "3e600f63-05cc-4dc8-8593-5a2b854611c9"
      },
      "source": [
        "tokens = tokenizer(text)\n",
        "sents = sent_tokenizer(text)\n",
        "\n",
        "print(tokens)\n",
        "print(sents)"
      ],
      "execution_count": null,
      "outputs": [
        {
          "output_type": "stream",
          "text": [
            "['the', 'house', 'judiciary', 'committee', 'has', 'invited', 'president', 'donald', 'trump', 'or', 'his', 'counsel', 'to', 'participate', 'in', 'the', \"panel's\", 'first', 'impeachment', 'hearing', 'next', 'week', 'as', 'the', 'house', 'moves', 'another', 'step', 'closer', 'to', 'impeaching', 'the', 'president.', 'the', 'committee', 'announced', 'that', 'it', 'would', 'hold', 'a', 'hearing', 'december', '4', 'on', 'the', '\"constitutional', 'grounds', 'for', 'presidential', 'impeachment,\"', 'with', 'a', 'panel', 'of', 'expert', 'witnesses', 'testifying.\\nhouse', 'judiciary', 'chairman', 'jerry', 'nadler', 'sent', 'a', 'letter', 'to', 'trump', 'on', 'tuesday', 'notifying', 'him', 'of', 'the', 'hearing', 'and', 'inviting', 'the', 'president', 'or', 'his', 'counsel', 'to', 'participate,', 'including', 'asking', 'questions', 'of', 'the', 'witnesses.\\n\"i', 'write', 'to', 'ask', 'if', 'you', 'or', 'your', 'counsel', 'plan', 'to', 'attend', 'the', 'hearing', 'or', 'make', 'a', 'request', 'to', 'question', 'the', 'witness', 'panel,\"', 'the', 'new', 'york', 'democrat', 'wrote.\\nin', 'the', 'letter,', 'nadler', 'said', 'the', 'hearing', 'would', '\"serve', 'as', 'an', 'opportunity', 'to', 'discuss', 'the', 'historical', 'and', 'constitutional', 'basis', 'of', 'impeachment,', 'as', 'well', 'as', 'the', \"framers'\", 'intent', 'and', 'understanding', 'of', 'terms', 'like', \"'high\", 'crimes', 'and', \"misdemeanors.'\", '\"\\n\"we', 'expect', 'to', 'discuss', 'the', 'constitutional', 'framework', 'through', 'which', 'the', 'house', 'may', 'analyze', 'the', 'evidence', 'gathered', 'in', 'the', 'present', 'inquiry,\"', 'nadler', 'added.', '\"we', 'will', 'also', 'discuss', 'whether', 'your', 'alleged', 'actions', 'warrant', 'the', \"house's\", 'exercising', 'its', 'authority', 'to', 'adopt', 'articles', 'of', 'impeachment.\"\\nthe', 'judiciary', 'committee', 'hearing', 'is', 'the', 'latest', 'sign', 'that', 'house', 'democrats', 'are', 'moving', 'forward', 'with', 'impeachment', 'proceedings', 'against', 'the', 'president', 'following', 'the', 'two-month', 'investigation', 'led', 'by', 'the', 'house', 'intelligence', 'committee', 'into', 'allegations', 'that', 'trump', 'pushed', 'ukraine', 'to', 'investigate', 'his', 'political', 'rivals', 'while', 'a', 'white', 'house', 'meeting', 'and', '$400', 'million', 'in', 'security', 'aid', 'were', 'withheld', 'from', 'kiev.\\nthe', 'hearing', 'announcement', 'comes', 'as', 'the', 'intelligence', 'committee', 'plans', 'to', 'release', 'its', 'report', 'summarizing', 'the', 'findings', 'of', 'its', 'investigation', 'to', 'the', 'house', 'judiciary', 'committee', 'soon', 'after', 'congress', 'returns', 'from', 'its', 'thanksgiving', 'recess', 'next', 'week.\\ndemocratic', 'aides', 'declined', 'to', 'say', 'what', 'additional', 'hearings', 'they', 'will', 'schedule', 'as', 'part', 'of', 'the', 'impeachment', 'proceedings.\\nthe', 'judiciary', 'committee', 'is', 'expected', 'to', 'hold', 'multiple', 'hearings', 'related', 'to', 'impeachment,', 'and', 'the', 'panel', 'would', 'debate', 'and', 'approve', 'articles', 'of', 'impeachment', 'before', 'a', 'vote', 'on', 'the', 'house', 'floor.\\nthe', 'aides', 'said', 'the', 'first', 'hearing', 'was', 'a', '\"legal', 'hearing\"', 'that', 'would', 'include', 'some', 'history', 'of', 'impeachment,', 'as', 'well', 'as', 'evaluating', 'the', 'seriousness', 'of', 'the', 'allegations', 'and', 'the', 'evidence', 'against', 'the', 'president.\\nnadler', 'asked', 'trump', 'to', 'respond', 'by', 'sunday', 'on', 'whether', 'the', 'white', 'house', 'wanted', 'to', 'participate', 'in', 'the', 'hearings,', 'as', 'well', 'as', 'who', 'would', 'act', 'as', 'the', \"president's\", 'counsel', 'for', 'the', 'proceedings.', 'the', 'letter', 'was', 'copied', 'to', 'white', 'house', 'counsel', 'pat', 'cipollone.']\n",
            "[\"The House Judiciary Committee has invited President Donald Trump or his counsel to participate in the panel's first impeachment hearing next week as the House moves another step closer to impeaching the President\", 'The committee announced that it would hold a hearing December 4 on the \"constitutional grounds for presidential impeachment,\" with a panel of expert witnesses testifying', 'House Judiciary Chairman Jerry Nadler sent a letter to Trump on Tuesday notifying him of the hearing and inviting the President or his counsel to participate, including asking questions of the witnesses', '\"I write to ask if you or your counsel plan to attend the hearing or make a request to question the witness panel,\" the New York Democrat wrote', 'In the letter, Nadler said the hearing would \"serve as an opportunity to discuss the historical and constitutional basis of impeachment, as well as the Framers\\' intent and understanding of terms like \\'high crimes and misdemeanors', '\\' \"\\n\"We expect to discuss the constitutional framework through which the House may analyze the evidence gathered in the present inquiry,\" Nadler added', '\"We will also discuss whether your alleged actions warrant the House\\'s exercising its authority to adopt articles of impeachment', '\"\\nThe Judiciary Committee hearing is the latest sign that House Democrats are moving forward with impeachment proceedings against the President following the two-month investigation led by the House Intelligence Committee into allegations that Trump pushed Ukraine to investigate his political rivals while a White House meeting and $400 million in security aid were withheld from Kiev', 'The hearing announcement comes as the Intelligence Committee plans to release its report summarizing the findings of its investigation to the House Judiciary Committee soon after Congress returns from its Thanksgiving recess next week', 'Democratic aides declined to say what additional hearings they will schedule as part of the impeachment proceedings', 'The Judiciary Committee is expected to hold multiple hearings related to impeachment, and the panel would debate and approve articles of impeachment before a vote on the House floor', 'The aides said the first hearing was a \"legal hearing\" that would include some history of impeachment, as well as evaluating the seriousness of the allegations and the evidence against the President', \"Nadler asked Trump to respond by Sunday on whether the White House wanted to participate in the hearings, as well as who would act as the President's counsel for the proceedings\", 'The letter was copied to White House Counsel Pat Cipollone', '']\n"
          ],
          "name": "stdout"
        }
      ]
    },
    {
      "cell_type": "code",
      "metadata": {
        "colab": {
          "base_uri": "https://localhost:8080/"
        },
        "id": "-Ju5gdkhkeVZ",
        "outputId": "be70b371-58ab-4039-9b87-a996db62f8fa"
      },
      "source": [
        "def count_words(tokens):\n",
        "    word_counts = {}\n",
        "    for token in tokens:\n",
        "        if token not in stop_words and token not in punctuation:\n",
        "            if token not in word_counts.keys():\n",
        "                word_counts[token] = 1\n",
        "            else:\n",
        "                word_counts[token] += 1\n",
        "    return word_counts\n",
        "\n",
        "word_counts = count_words(tokens)\n",
        "word_counts"
      ],
      "execution_count": null,
      "outputs": [
        {
          "output_type": "execute_result",
          "data": {
            "text/plain": [
              "{'\"\\n\"we': 1,\n",
              " '\"constitutional': 1,\n",
              " '\"legal': 1,\n",
              " '\"serve': 1,\n",
              " '\"we': 1,\n",
              " '$400': 1,\n",
              " \"'high\": 1,\n",
              " '4': 1,\n",
              " 'act': 1,\n",
              " 'actions': 1,\n",
              " 'added.': 1,\n",
              " 'additional': 1,\n",
              " 'adopt': 1,\n",
              " 'aid': 1,\n",
              " 'aides': 2,\n",
              " 'allegations': 2,\n",
              " 'alleged': 1,\n",
              " 'analyze': 1,\n",
              " 'announced': 1,\n",
              " 'announcement': 1,\n",
              " 'approve': 1,\n",
              " 'articles': 2,\n",
              " 'ask': 1,\n",
              " 'asked': 1,\n",
              " 'asking': 1,\n",
              " 'attend': 1,\n",
              " 'authority': 1,\n",
              " 'basis': 1,\n",
              " 'chairman': 1,\n",
              " 'cipollone.': 1,\n",
              " 'closer': 1,\n",
              " 'comes': 1,\n",
              " 'committee': 7,\n",
              " 'congress': 1,\n",
              " 'constitutional': 2,\n",
              " 'copied': 1,\n",
              " 'counsel': 5,\n",
              " 'crimes': 1,\n",
              " 'debate': 1,\n",
              " 'december': 1,\n",
              " 'declined': 1,\n",
              " 'democrat': 1,\n",
              " 'democrats': 1,\n",
              " 'discuss': 3,\n",
              " 'donald': 1,\n",
              " 'evaluating': 1,\n",
              " 'evidence': 2,\n",
              " 'exercising': 1,\n",
              " 'expect': 1,\n",
              " 'expected': 1,\n",
              " 'expert': 1,\n",
              " 'findings': 1,\n",
              " 'floor.\\nthe': 1,\n",
              " 'following': 1,\n",
              " 'forward': 1,\n",
              " \"framers'\": 1,\n",
              " 'framework': 1,\n",
              " 'gathered': 1,\n",
              " 'grounds': 1,\n",
              " 'hearing': 8,\n",
              " 'hearing\"': 1,\n",
              " 'hearings': 2,\n",
              " 'hearings,': 1,\n",
              " 'historical': 1,\n",
              " 'history': 1,\n",
              " 'hold': 2,\n",
              " 'house': 10,\n",
              " \"house's\": 1,\n",
              " 'impeaching': 1,\n",
              " 'impeachment': 4,\n",
              " 'impeachment,': 3,\n",
              " 'impeachment,\"': 1,\n",
              " 'impeachment.\"\\nthe': 1,\n",
              " 'include': 1,\n",
              " 'including': 1,\n",
              " 'inquiry,\"': 1,\n",
              " 'intelligence': 2,\n",
              " 'intent': 1,\n",
              " 'investigate': 1,\n",
              " 'investigation': 2,\n",
              " 'invited': 1,\n",
              " 'inviting': 1,\n",
              " 'jerry': 1,\n",
              " 'judiciary': 5,\n",
              " 'kiev.\\nthe': 1,\n",
              " 'latest': 1,\n",
              " 'led': 1,\n",
              " 'letter': 2,\n",
              " 'letter,': 1,\n",
              " 'like': 1,\n",
              " 'make': 1,\n",
              " 'meeting': 1,\n",
              " 'million': 1,\n",
              " \"misdemeanors.'\": 1,\n",
              " 'moves': 1,\n",
              " 'moving': 1,\n",
              " 'multiple': 1,\n",
              " 'nadler': 3,\n",
              " 'new': 1,\n",
              " 'notifying': 1,\n",
              " 'opportunity': 1,\n",
              " 'panel': 2,\n",
              " \"panel's\": 1,\n",
              " 'panel,\"': 1,\n",
              " 'participate': 2,\n",
              " 'participate,': 1,\n",
              " 'pat': 1,\n",
              " 'plan': 1,\n",
              " 'plans': 1,\n",
              " 'political': 1,\n",
              " 'present': 1,\n",
              " 'president': 3,\n",
              " \"president's\": 1,\n",
              " 'president.': 1,\n",
              " 'president.\\nnadler': 1,\n",
              " 'presidential': 1,\n",
              " 'proceedings': 1,\n",
              " 'proceedings.': 1,\n",
              " 'proceedings.\\nthe': 1,\n",
              " 'pushed': 1,\n",
              " 'question': 1,\n",
              " 'questions': 1,\n",
              " 'recess': 1,\n",
              " 'related': 1,\n",
              " 'release': 1,\n",
              " 'report': 1,\n",
              " 'request': 1,\n",
              " 'respond': 1,\n",
              " 'returns': 1,\n",
              " 'rivals': 1,\n",
              " 'said': 2,\n",
              " 'say': 1,\n",
              " 'schedule': 1,\n",
              " 'security': 1,\n",
              " 'sent': 1,\n",
              " 'seriousness': 1,\n",
              " 'sign': 1,\n",
              " 'soon': 1,\n",
              " 'step': 1,\n",
              " 'summarizing': 1,\n",
              " 'sunday': 1,\n",
              " 'terms': 1,\n",
              " 'testifying.\\nhouse': 1,\n",
              " 'thanksgiving': 1,\n",
              " 'trump': 4,\n",
              " 'tuesday': 1,\n",
              " 'two-month': 1,\n",
              " 'ukraine': 1,\n",
              " 'understanding': 1,\n",
              " 'vote': 1,\n",
              " 'wanted': 1,\n",
              " 'warrant': 1,\n",
              " 'week': 1,\n",
              " 'week.\\ndemocratic': 1,\n",
              " 'white': 3,\n",
              " 'withheld': 1,\n",
              " 'witness': 1,\n",
              " 'witnesses': 1,\n",
              " 'witnesses.\\n\"i': 1,\n",
              " 'write': 1,\n",
              " 'wrote.\\nin': 1,\n",
              " 'york': 1}"
            ]
          },
          "metadata": {
            "tags": []
          },
          "execution_count": 6
        }
      ]
    },
    {
      "cell_type": "code",
      "metadata": {
        "colab": {
          "base_uri": "https://localhost:8080/"
        },
        "id": "o-1M7JB5lBkY",
        "outputId": "ebc365b7-4ac2-4b0a-eca0-c70e8ff7a37e"
      },
      "source": [
        "def word_freq_distribution(word_counts):\n",
        "    freq_dist = {}\n",
        "    max_freq = max(word_counts.values())\n",
        "    for word in word_counts.keys():  \n",
        "        freq_dist[word] = (word_counts[word]/max_freq)\n",
        "    return freq_dist\n",
        "\n",
        "freq_dist = word_freq_distribution(word_counts)\n",
        "freq_dist"
      ],
      "execution_count": null,
      "outputs": [
        {
          "output_type": "execute_result",
          "data": {
            "text/plain": [
              "{'\"\\n\"we': 0.1,\n",
              " '\"constitutional': 0.1,\n",
              " '\"legal': 0.1,\n",
              " '\"serve': 0.1,\n",
              " '\"we': 0.1,\n",
              " '$400': 0.1,\n",
              " \"'high\": 0.1,\n",
              " '4': 0.1,\n",
              " 'act': 0.1,\n",
              " 'actions': 0.1,\n",
              " 'added.': 0.1,\n",
              " 'additional': 0.1,\n",
              " 'adopt': 0.1,\n",
              " 'aid': 0.1,\n",
              " 'aides': 0.2,\n",
              " 'allegations': 0.2,\n",
              " 'alleged': 0.1,\n",
              " 'analyze': 0.1,\n",
              " 'announced': 0.1,\n",
              " 'announcement': 0.1,\n",
              " 'approve': 0.1,\n",
              " 'articles': 0.2,\n",
              " 'ask': 0.1,\n",
              " 'asked': 0.1,\n",
              " 'asking': 0.1,\n",
              " 'attend': 0.1,\n",
              " 'authority': 0.1,\n",
              " 'basis': 0.1,\n",
              " 'chairman': 0.1,\n",
              " 'cipollone.': 0.1,\n",
              " 'closer': 0.1,\n",
              " 'comes': 0.1,\n",
              " 'committee': 0.7,\n",
              " 'congress': 0.1,\n",
              " 'constitutional': 0.2,\n",
              " 'copied': 0.1,\n",
              " 'counsel': 0.5,\n",
              " 'crimes': 0.1,\n",
              " 'debate': 0.1,\n",
              " 'december': 0.1,\n",
              " 'declined': 0.1,\n",
              " 'democrat': 0.1,\n",
              " 'democrats': 0.1,\n",
              " 'discuss': 0.3,\n",
              " 'donald': 0.1,\n",
              " 'evaluating': 0.1,\n",
              " 'evidence': 0.2,\n",
              " 'exercising': 0.1,\n",
              " 'expect': 0.1,\n",
              " 'expected': 0.1,\n",
              " 'expert': 0.1,\n",
              " 'findings': 0.1,\n",
              " 'floor.\\nthe': 0.1,\n",
              " 'following': 0.1,\n",
              " 'forward': 0.1,\n",
              " \"framers'\": 0.1,\n",
              " 'framework': 0.1,\n",
              " 'gathered': 0.1,\n",
              " 'grounds': 0.1,\n",
              " 'hearing': 0.8,\n",
              " 'hearing\"': 0.1,\n",
              " 'hearings': 0.2,\n",
              " 'hearings,': 0.1,\n",
              " 'historical': 0.1,\n",
              " 'history': 0.1,\n",
              " 'hold': 0.2,\n",
              " 'house': 1.0,\n",
              " \"house's\": 0.1,\n",
              " 'impeaching': 0.1,\n",
              " 'impeachment': 0.4,\n",
              " 'impeachment,': 0.3,\n",
              " 'impeachment,\"': 0.1,\n",
              " 'impeachment.\"\\nthe': 0.1,\n",
              " 'include': 0.1,\n",
              " 'including': 0.1,\n",
              " 'inquiry,\"': 0.1,\n",
              " 'intelligence': 0.2,\n",
              " 'intent': 0.1,\n",
              " 'investigate': 0.1,\n",
              " 'investigation': 0.2,\n",
              " 'invited': 0.1,\n",
              " 'inviting': 0.1,\n",
              " 'jerry': 0.1,\n",
              " 'judiciary': 0.5,\n",
              " 'kiev.\\nthe': 0.1,\n",
              " 'latest': 0.1,\n",
              " 'led': 0.1,\n",
              " 'letter': 0.2,\n",
              " 'letter,': 0.1,\n",
              " 'like': 0.1,\n",
              " 'make': 0.1,\n",
              " 'meeting': 0.1,\n",
              " 'million': 0.1,\n",
              " \"misdemeanors.'\": 0.1,\n",
              " 'moves': 0.1,\n",
              " 'moving': 0.1,\n",
              " 'multiple': 0.1,\n",
              " 'nadler': 0.3,\n",
              " 'new': 0.1,\n",
              " 'notifying': 0.1,\n",
              " 'opportunity': 0.1,\n",
              " 'panel': 0.2,\n",
              " \"panel's\": 0.1,\n",
              " 'panel,\"': 0.1,\n",
              " 'participate': 0.2,\n",
              " 'participate,': 0.1,\n",
              " 'pat': 0.1,\n",
              " 'plan': 0.1,\n",
              " 'plans': 0.1,\n",
              " 'political': 0.1,\n",
              " 'present': 0.1,\n",
              " 'president': 0.3,\n",
              " \"president's\": 0.1,\n",
              " 'president.': 0.1,\n",
              " 'president.\\nnadler': 0.1,\n",
              " 'presidential': 0.1,\n",
              " 'proceedings': 0.1,\n",
              " 'proceedings.': 0.1,\n",
              " 'proceedings.\\nthe': 0.1,\n",
              " 'pushed': 0.1,\n",
              " 'question': 0.1,\n",
              " 'questions': 0.1,\n",
              " 'recess': 0.1,\n",
              " 'related': 0.1,\n",
              " 'release': 0.1,\n",
              " 'report': 0.1,\n",
              " 'request': 0.1,\n",
              " 'respond': 0.1,\n",
              " 'returns': 0.1,\n",
              " 'rivals': 0.1,\n",
              " 'said': 0.2,\n",
              " 'say': 0.1,\n",
              " 'schedule': 0.1,\n",
              " 'security': 0.1,\n",
              " 'sent': 0.1,\n",
              " 'seriousness': 0.1,\n",
              " 'sign': 0.1,\n",
              " 'soon': 0.1,\n",
              " 'step': 0.1,\n",
              " 'summarizing': 0.1,\n",
              " 'sunday': 0.1,\n",
              " 'terms': 0.1,\n",
              " 'testifying.\\nhouse': 0.1,\n",
              " 'thanksgiving': 0.1,\n",
              " 'trump': 0.4,\n",
              " 'tuesday': 0.1,\n",
              " 'two-month': 0.1,\n",
              " 'ukraine': 0.1,\n",
              " 'understanding': 0.1,\n",
              " 'vote': 0.1,\n",
              " 'wanted': 0.1,\n",
              " 'warrant': 0.1,\n",
              " 'week': 0.1,\n",
              " 'week.\\ndemocratic': 0.1,\n",
              " 'white': 0.3,\n",
              " 'withheld': 0.1,\n",
              " 'witness': 0.1,\n",
              " 'witnesses': 0.1,\n",
              " 'witnesses.\\n\"i': 0.1,\n",
              " 'write': 0.1,\n",
              " 'wrote.\\nin': 0.1,\n",
              " 'york': 0.1}"
            ]
          },
          "metadata": {
            "tags": []
          },
          "execution_count": 7
        }
      ]
    },
    {
      "cell_type": "code",
      "metadata": {
        "colab": {
          "base_uri": "https://localhost:8080/"
        },
        "id": "NSdsATYulGrJ",
        "outputId": "9fe27df7-a666-48f6-c52a-264d6b2f0e3c"
      },
      "source": [
        "def score_sentences(sents, freq_dist, max_len=40):\n",
        "    sent_scores = {}  \n",
        "    for sent in sents:\n",
        "        words = sent.split(' ')\n",
        "        for word in words:\n",
        "            if word.lower() in freq_dist.keys():\n",
        "                if len(words) < max_len:\n",
        "                    if sent not in sent_scores.keys():\n",
        "                        sent_scores[sent] = freq_dist[word.lower()]\n",
        "                    else:\n",
        "                        sent_scores[sent] += freq_dist[word.lower()]\n",
        "    return sent_scores\n",
        "\n",
        "sent_scores = score_sentences(sents, freq_dist)\n",
        "sent_scores"
      ],
      "execution_count": null,
      "outputs": [
        {
          "output_type": "execute_result",
          "data": {
            "text/plain": [
              "{'\"I write to ask if you or your counsel plan to attend the hearing or make a request to question the witness panel,\" the New York Democrat wrote': 2.5000000000000004,\n",
              " '\"We will also discuss whether your alleged actions warrant the House\\'s exercising its authority to adopt articles of impeachment': 1.6999999999999997,\n",
              " '\\' \"\\n\"We expect to discuss the constitutional framework through which the House may analyze the evidence gathered in the present inquiry,\" Nadler added': 2.7,\n",
              " 'Democratic aides declined to say what additional hearings they will schedule as part of the impeachment proceedings': 1.3,\n",
              " 'House Judiciary Chairman Jerry Nadler sent a letter to Trump on Tuesday notifying him of the hearing and inviting the President or his counsel to participate, including asking questions of the witnesses': 5.099999999999999,\n",
              " 'In the letter, Nadler said the hearing would \"serve as an opportunity to discuss the historical and constitutional basis of impeachment, as well as the Framers\\' intent and understanding of terms like \\'high crimes and misdemeanors': 3.300000000000001,\n",
              " \"Nadler asked Trump to respond by Sunday on whether the White House wanted to participate in the hearings, as well as who would act as the President's counsel for the proceedings\": 3.5000000000000004,\n",
              " \"The House Judiciary Committee has invited President Donald Trump or his counsel to participate in the panel's first impeachment hearing next week as the House moves another step closer to impeaching the President\": 6.899999999999999,\n",
              " 'The Judiciary Committee is expected to hold multiple hearings related to impeachment, and the panel would debate and approve articles of impeachment before a vote on the House floor': 4.300000000000001,\n",
              " 'The aides said the first hearing was a \"legal hearing\" that would include some history of impeachment, as well as evaluating the seriousness of the allegations and the evidence against the President': 2.8000000000000007,\n",
              " 'The committee announced that it would hold a hearing December 4 on the \"constitutional grounds for presidential impeachment,\" with a panel of expert witnesses testifying': 2.8000000000000007,\n",
              " 'The hearing announcement comes as the Intelligence Committee plans to release its report summarizing the findings of its investigation to the House Judiciary Committee soon after Congress returns from its Thanksgiving recess next week': 5.399999999999999,\n",
              " 'The letter was copied to White House Counsel Pat Cipollone': 2.2}"
            ]
          },
          "metadata": {
            "tags": []
          },
          "execution_count": 8
        }
      ]
    },
    {
      "cell_type": "code",
      "metadata": {
        "id": "SmZtSvGAlNHK"
      },
      "source": [
        "def summarize(sent_scores, k):\n",
        "    top_sents = Counter(sent_scores) \n",
        "    summary = ''\n",
        "    scores = []\n",
        "    \n",
        "    top = top_sents.most_common(k)\n",
        "    for t in top: \n",
        "        summary += t[0].strip()+'. '\n",
        "        scores.append((t[1], t[0]))\n",
        "    return summary[:-1], scores"
      ],
      "execution_count": null,
      "outputs": []
    },
    {
      "cell_type": "code",
      "metadata": {
        "colab": {
          "base_uri": "https://localhost:8080/"
        },
        "id": "SXt0udZGlSbG",
        "outputId": "4649c415-9373-463e-87b4-234717b880f0"
      },
      "source": [
        "summary, summary_sent_scores = summarize(sent_scores, 3)\n",
        "print(summary)"
      ],
      "execution_count": null,
      "outputs": [
        {
          "output_type": "stream",
          "text": [
            "The House Judiciary Committee has invited President Donald Trump or his counsel to participate in the panel's first impeachment hearing next week as the House moves another step closer to impeaching the President. The hearing announcement comes as the Intelligence Committee plans to release its report summarizing the findings of its investigation to the House Judiciary Committee soon after Congress returns from its Thanksgiving recess next week. House Judiciary Chairman Jerry Nadler sent a letter to Trump on Tuesday notifying him of the hearing and inviting the President or his counsel to participate, including asking questions of the witnesses.\n"
          ],
          "name": "stdout"
        }
      ]
    },
    {
      "cell_type": "code",
      "metadata": {
        "colab": {
          "base_uri": "https://localhost:8080/"
        },
        "id": "FBeUAY-blV6G",
        "outputId": "730c071d-85f4-4770-d53f-3557de49e7e6"
      },
      "source": [
        "for score in summary_sent_scores: print(score[0], '->', score[1], '\\n')"
      ],
      "execution_count": null,
      "outputs": [
        {
          "output_type": "stream",
          "text": [
            "6.899999999999999 -> The House Judiciary Committee has invited President Donald Trump or his counsel to participate in the panel's first impeachment hearing next week as the House moves another step closer to impeaching the President \n",
            "\n",
            "5.399999999999999 -> The hearing announcement comes as the Intelligence Committee plans to release its report summarizing the findings of its investigation to the House Judiciary Committee soon after Congress returns from its Thanksgiving recess next week \n",
            "\n",
            "5.099999999999999 -> House Judiciary Chairman Jerry Nadler sent a letter to Trump on Tuesday notifying him of the hearing and inviting the President or his counsel to participate, including asking questions of the witnesses \n",
            "\n"
          ],
          "name": "stdout"
        }
      ]
    },
    {
      "cell_type": "code",
      "metadata": {
        "id": "bZnttExDlZ9f"
      },
      "source": [
        ""
      ],
      "execution_count": null,
      "outputs": []
    }
  ]
}